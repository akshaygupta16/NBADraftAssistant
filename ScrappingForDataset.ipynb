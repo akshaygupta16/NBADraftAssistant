{
 "cells": [
  {
   "cell_type": "code",
   "execution_count": 3,
   "metadata": {},
   "outputs": [],
   "source": [
    "import requests\n",
    "import numpy as np\n",
    "from bs4 import BeautifulSoup\n",
    "import csv"
   ]
  },
  {
   "cell_type": "code",
   "execution_count": 77,
   "metadata": {},
   "outputs": [],
   "source": [
    "page = requests.get('https://www.basketball-reference.com/draft/NBA_2015.html')"
   ]
  },
  {
   "cell_type": "code",
   "execution_count": 78,
   "metadata": {},
   "outputs": [],
   "source": [
    "soup = BeautifulSoup(page.text,'html.parser')"
   ]
  },
  {
   "cell_type": "code",
   "execution_count": 79,
   "metadata": {},
   "outputs": [],
   "source": [
    "my_table=soup.find(lambda tag: tag.name=='tbody')"
   ]
  },
  {
   "cell_type": "code",
   "execution_count": 80,
   "metadata": {},
   "outputs": [],
   "source": [
    "rows=my_table.findAll('tr')"
   ]
  },
  {
   "cell_type": "code",
   "execution_count": 81,
   "metadata": {},
   "outputs": [
    {
     "data": {
      "text/plain": [
       "'Willie Cauley-Stein'"
      ]
     },
     "execution_count": 81,
     "metadata": {},
     "output_type": "execute_result"
    }
   ],
   "source": [
    "rows[5].find_all('td')[2].text"
   ]
  },
  {
   "cell_type": "code",
   "execution_count": 82,
   "metadata": {},
   "outputs": [
    {
     "data": {
      "text/plain": [
       "187"
      ]
     },
     "execution_count": 82,
     "metadata": {},
     "output_type": "execute_result"
    }
   ],
   "source": [
    "# Open writer with name\n",
    "file_name = \"draft_data4.csv\"\n",
    "# set newline to be '' so that that new rows are appended without skipping any\n",
    "f = csv.writer(open(file_name, 'w', newline=''))\n",
    "\n",
    "# write a new row as a header\n",
    "f.writerow(['Pick', 'Name', 'College','Years_Played','Total_Games','Field_Goal_%','3PT%','Free_Throw_%','Minutes_Per_Game','Point_Per_Game','Rebounds_Per_Game','Assists_Per_Game','Win_Shares','Win_shares_per_48m','Box_plus_minus'])"
   ]
  },
  {
   "cell_type": "code",
   "execution_count": 83,
   "metadata": {},
   "outputs": [],
   "source": [
    "for i in range(0, len(rows)):\n",
    "    try:\n",
    "#         print(rows[i].find_all('td')[2].text)\n",
    "        pick_no=rows[i].find_all('td')[0].text\n",
    "        player_name=rows[i].find_all('td')[2].text\n",
    "        college=rows[i].find_all('td')[3].text\n",
    "        years_played=rows[i].find_all('td')[4].text\n",
    "        games_played=rows[i].find_all('td')[5].text\n",
    "        fg=rows[i].find_all('td')[10].text\n",
    "        three_pt_rate=rows[i].find_all('td')[11].text\n",
    "        ft_rate=rows[i].find_all('td')[12].text\n",
    "        per_game_mins=rows[i].find_all('td')[13].text\n",
    "        ppg=rows[i].find_all('td')[14].text\n",
    "        rpg=rows[i].find_all('td')[15].text\n",
    "        apg=rows[i].find_all('td')[16].text\n",
    "        win_shares=rows[i].find_all('td')[17].text\n",
    "        win_shares_adv=rows[i].find_all('td')[18].text\n",
    "        plus_minus=rows[i].find_all('td')[19].text\n",
    "        f.writerow([pick_no,player_name,college,years_played,games_played,fg,three_pt_rate,ft_rate,per_game_mins,ppg,rpg,apg,win_shares,win_shares_adv,plus_minus])\n",
    "        \n",
    "    except:\n",
    "        continue"
   ]
  },
  {
   "cell_type": "code",
   "execution_count": 84,
   "metadata": {},
   "outputs": [
    {
     "name": "stdout",
     "output_type": "stream",
     "text": [
      "0 2\n",
      "1 3\n",
      "2 4\n",
      "3 5\n",
      "4 6\n",
      "5 7\n",
      "6 8\n"
     ]
    }
   ],
   "source": [
    "i = 0\n",
    "j = 2\n",
    "\n",
    "while i < 9 and j < 9:\n",
    "    print(i, j)\n",
    "    \n",
    "    i += 1\n",
    "    j += 1"
   ]
  },
  {
   "cell_type": "code",
   "execution_count": 85,
   "metadata": {},
   "outputs": [
    {
     "name": "stdout",
     "output_type": "stream",
     "text": [
      "0 2\n",
      "1 3\n",
      "2 4\n",
      "3 5\n",
      "4 6\n",
      "5 7\n",
      "6 8\n"
     ]
    }
   ],
   "source": [
    "i, j = 0, 2\n",
    "griddim = 9\n",
    "for x, y in zip(range(i, griddim), range(j, griddim)):\n",
    "    print(x, y)"
   ]
  },
  {
   "cell_type": "code",
   "execution_count": 81,
   "metadata": {},
   "outputs": [],
   "source": [
    "name.strip()\n",
    "full_name=name.split()\n",
    "fname=full_name[0]\n",
    "lname=full_name[1]\n",
    "wiki = 'https://en.wikipedia.org/wiki/'+fname+'_'+lname\n",
    "\n",
    "page2=requests.get(wiki)\n",
    "\n",
    "doc7=lxml.html.fromstring(page2.content)\n",
    "\n",
    "table=doc7.xpath('/table[@class=\"infobox vcard\"]')\n",
    "\n",
    "list1=doc7.xpath('//li')\n",
    "\n",
    "\n",
    "for l in list1:\n",
    "    if(\"NBA All-Star\" in l.xpath('./a/text()')):\n",
    "        return \"yes\"\n",
    "    if(\"NBA Sixth Man of the Year\" in l.xpath('./a/text()')):\n",
    "        return \"yes\"\n",
    "    if(\"NBA All-Defensive First Team\" in l.xpath('./a/text()')):\n",
    "        return \"yes\"\n",
    "    if(\"NBA All-Defensive Second Team\" in l.xpath('./a/text()')):\n",
    "        return \"yes\"\n",
    "    if(\"NBA Defensive Player of the Year\" in l.xpath('./a/text()')):\n",
    "        return \"yes\"\n",
    "    if(\"All-NBA First Team\" in l.xpath('./a/text()')):\n",
    "        return \"yes\"\n",
    "    if(\"All-NBA Second Team\" in l.xpath('./a/text()')):\n",
    "        return \"yes\"\n",
    "    if(\"All-NBA Third Team\" in l.xpath('./a/text()')):\n",
    "        return \"yes\"\n"
   ]
  },
  {
   "cell_type": "code",
   "execution_count": 79,
   "metadata": {},
   "outputs": [
    {
     "name": "stdout",
     "output_type": "stream",
     "text": [
      "true8\n",
      "true8\n",
      "true8\n",
      "true5\n"
     ]
    }
   ],
   "source": [
    "\n",
    "\n",
    "for l in list1:\n",
    "#     print(l.xpath('./a/text()'))\n",
    "    if(\"NBA All-Star\" in l.xpath('./a/text()')):\n",
    "        return \"yes\"\n",
    "    if(\"NBA Sixth Man of the Year\" in l.xpath('./a/text()')):\n",
    "        return \"yes\"\n",
    "    if(\"NBA All-Defensive First Team\" in l.xpath('./a/text()')):\n",
    "        return \"yes\"\n",
    "    if(\"NBA All-Defensive Second Team\" in l.xpath('./a/text()')):\n",
    "        return \"yes\"\n",
    "    if(\"NBA Defensive Player of the Year\" in l.xpath('./a/text()')):\n",
    "        return \"yes\"\n",
    "    if(\"All-NBA First Team\" in l.xpath('./a/text()')):\n",
    "        return \"yes\"\n",
    "    if(\"All-NBA Second Team\" in l.xpath('./a/text()')):\n",
    "        return \"yes\"\n",
    "    if(\"All-NBA Third Team\" in l.xpath('./a/text()')):\n",
    "        return \"yes\"\n",
    "\n",
    "        \n"
   ]
  },
  {
   "cell_type": "code",
   "execution_count": 1,
   "metadata": {},
   "outputs": [
    {
     "ename": "NameError",
     "evalue": "name 'table' is not defined",
     "output_type": "error",
     "traceback": [
      "\u001b[1;31m---------------------------------------------------------------------------\u001b[0m",
      "\u001b[1;31mNameError\u001b[0m                                 Traceback (most recent call last)",
      "\u001b[1;32m<ipython-input-1-2e062ec15c20>\u001b[0m in \u001b[0;36m<module>\u001b[1;34m\u001b[0m\n\u001b[1;32m----> 1\u001b[1;33m \u001b[0mprint\u001b[0m\u001b[1;33m(\u001b[0m\u001b[0mtable\u001b[0m\u001b[1;33m)\u001b[0m\u001b[1;33m\u001b[0m\u001b[1;33m\u001b[0m\u001b[0m\n\u001b[0m",
      "\u001b[1;31mNameError\u001b[0m: name 'table' is not defined"
     ]
    }
   ],
   "source": [
    "print(table)"
   ]
  },
  {
   "cell_type": "code",
   "execution_count": 41,
   "metadata": {},
   "outputs": [
    {
     "name": "stdout",
     "output_type": "stream",
     "text": [
      "\n",
      "  Center\n",
      "\n",
      "\n",
      "\n",
      "  \n"
     ]
    }
   ],
   "source": [
    "import lxml.html\n",
    "\n",
    "webpage = requests.get('https://www.sports-reference.com/cbb/players/erick-dampier-1.html')\n",
    "\n",
    "docu = lxml.html.fromstring(webpage.content)\n",
    "\n",
    "maindiv = docu.xpath('//p/text()')\n",
    "\n",
    "\n",
    "print(maindiv[1])"
   ]
  },
  {
   "cell_type": "code",
   "execution_count": 42,
   "metadata": {},
   "outputs": [],
   "source": [
    "word = \"\\n  Forward\\n\\n\\n\\n \""
   ]
  },
  {
   "cell_type": "code",
   "execution_count": 43,
   "metadata": {},
   "outputs": [
    {
     "data": {
      "text/plain": [
       "'Forward'"
      ]
     },
     "execution_count": 43,
     "metadata": {},
     "output_type": "execute_result"
    }
   ],
   "source": [
    "word.strip()"
   ]
  },
  {
   "cell_type": "raw",
   "metadata": {},
   "source": []
  },
  {
   "cell_type": "raw",
   "metadata": {},
   "source": []
  }
 ],
 "metadata": {
  "kernelspec": {
   "display_name": "Python 3",
   "language": "python",
   "name": "python3"
  },
  "language_info": {
   "codemirror_mode": {
    "name": "ipython",
    "version": 3
   },
   "file_extension": ".py",
   "mimetype": "text/x-python",
   "name": "python",
   "nbconvert_exporter": "python",
   "pygments_lexer": "ipython3",
   "version": "3.7.3"
  }
 },
 "nbformat": 4,
 "nbformat_minor": 2
}
